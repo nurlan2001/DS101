{
 "cells": [
  {
   "cell_type": "code",
   "execution_count": 254,
   "id": "de06e592",
   "metadata": {},
   "outputs": [],
   "source": [
    "import pandas as pd\n",
    "import numpy as np\n",
    "import matplotlib.pyplot as plt"
   ]
  },
  {
   "cell_type": "code",
   "execution_count": 255,
   "id": "53da2348",
   "metadata": {},
   "outputs": [],
   "source": [
    "#Data importing\n",
    "df = pd.read_csv('28 June LR class/turboaz.csv')"
   ]
  },
  {
   "cell_type": "code",
   "execution_count": 256,
   "id": "10501b6b",
   "metadata": {},
   "outputs": [],
   "source": [
    "#Removing $ signs\n",
    "def applyAZN(col):\n",
    "    lst = col.split()\n",
    "    if 'AZN' in col:\n",
    "        return float(lst[0])\n",
    "    if '$' in col:\n",
    "        return float(lst[0]) * 1.7\n",
    "    return 0\n",
    "\n",
    "df['Qiymet']=df['Qiymet'].apply(applyAZN)"
   ]
  },
  {
   "cell_type": "code",
   "execution_count": 257,
   "id": "360e8cca",
   "metadata": {},
   "outputs": [],
   "source": [
    "df = df[['Buraxilish ili', 'Qiymet']].copy()"
   ]
  },
  {
   "cell_type": "code",
   "execution_count": 239,
   "id": "af3e9513",
   "metadata": {},
   "outputs": [
    {
     "data": {
      "text/html": [
       "<div>\n",
       "<style scoped>\n",
       "    .dataframe tbody tr th:only-of-type {\n",
       "        vertical-align: middle;\n",
       "    }\n",
       "\n",
       "    .dataframe tbody tr th {\n",
       "        vertical-align: top;\n",
       "    }\n",
       "\n",
       "    .dataframe thead th {\n",
       "        text-align: right;\n",
       "    }\n",
       "</style>\n",
       "<table border=\"1\" class=\"dataframe\">\n",
       "  <thead>\n",
       "    <tr style=\"text-align: right;\">\n",
       "      <th></th>\n",
       "      <th>Buraxilish ili</th>\n",
       "      <th>Qiymet</th>\n",
       "    </tr>\n",
       "  </thead>\n",
       "  <tbody>\n",
       "    <tr>\n",
       "      <th>0</th>\n",
       "      <td>1999</td>\n",
       "      <td>12500.0</td>\n",
       "    </tr>\n",
       "    <tr>\n",
       "      <th>1</th>\n",
       "      <td>2014</td>\n",
       "      <td>53550.0</td>\n",
       "    </tr>\n",
       "    <tr>\n",
       "      <th>2</th>\n",
       "      <td>2002</td>\n",
       "      <td>11700.0</td>\n",
       "    </tr>\n",
       "    <tr>\n",
       "      <th>3</th>\n",
       "      <td>1998</td>\n",
       "      <td>9700.0</td>\n",
       "    </tr>\n",
       "    <tr>\n",
       "      <th>4</th>\n",
       "      <td>2000</td>\n",
       "      <td>12700.0</td>\n",
       "    </tr>\n",
       "    <tr>\n",
       "      <th>...</th>\n",
       "      <td>...</td>\n",
       "      <td>...</td>\n",
       "    </tr>\n",
       "    <tr>\n",
       "      <th>1323</th>\n",
       "      <td>1996</td>\n",
       "      <td>8800.0</td>\n",
       "    </tr>\n",
       "    <tr>\n",
       "      <th>1324</th>\n",
       "      <td>1994</td>\n",
       "      <td>6300.0</td>\n",
       "    </tr>\n",
       "    <tr>\n",
       "      <th>1325</th>\n",
       "      <td>1998</td>\n",
       "      <td>10900.0</td>\n",
       "    </tr>\n",
       "    <tr>\n",
       "      <th>1326</th>\n",
       "      <td>2000</td>\n",
       "      <td>11300.0</td>\n",
       "    </tr>\n",
       "    <tr>\n",
       "      <th>1327</th>\n",
       "      <td>1996</td>\n",
       "      <td>10500.0</td>\n",
       "    </tr>\n",
       "  </tbody>\n",
       "</table>\n",
       "<p>1328 rows × 2 columns</p>\n",
       "</div>"
      ],
      "text/plain": [
       "      Buraxilish ili   Qiymet\n",
       "0               1999  12500.0\n",
       "1               2014  53550.0\n",
       "2               2002  11700.0\n",
       "3               1998   9700.0\n",
       "4               2000  12700.0\n",
       "...              ...      ...\n",
       "1323            1996   8800.0\n",
       "1324            1994   6300.0\n",
       "1325            1998  10900.0\n",
       "1326            2000  11300.0\n",
       "1327            1996  10500.0\n",
       "\n",
       "[1328 rows x 2 columns]"
      ]
     },
     "execution_count": 239,
     "metadata": {},
     "output_type": "execute_result"
    }
   ],
   "source": [
    "df"
   ]
  },
  {
   "cell_type": "code",
   "execution_count": 241,
   "id": "9bc5e4ac",
   "metadata": {},
   "outputs": [
    {
     "name": "stdout",
     "output_type": "stream",
     "text": [
      "Coefficients after gradient descent:\n",
      "w = [1.79265705e-14 8.84125328e-01]\n"
     ]
    },
    {
     "data": {
      "image/png": "[encoded data removed]",
      "text/plain": [
       "<Figure size 432x288 with 1 Axes>"
      ]
     },
     "metadata": {
      "needs_background": "light"
     },
     "output_type": "display_data"
    }
   ],
   "source": [
    "#Gradient descent\n",
    "import numpy as np\n",
    "import matplotlib.pyplot as plt\n",
    "\n",
    "class LinearRegressionGD:\n",
    "    def __init__(self, learning_rate=0.01, num_iterations=10000):\n",
    "        self.learning_rate = learning_rate\n",
    "        self.num_iterations = num_iterations\n",
    "        self.w = None\n",
    "        self.cost_history = []\n",
    "        \n",
    "    def fit(self, X, Y):\n",
    "        m = len(Y)\n",
    "        X = np.array([np.ones(len(Y)), X])\n",
    "        \n",
    "        self.w = np.zeros(2)\n",
    "        \n",
    "        for _ in range(self.num_iterations):\n",
    "            y_pred = X.T.dot(self.w)\n",
    "            diff = y_pred - Y\n",
    "            \n",
    "            dw = np.dot(X, diff) / m\n",
    "            self.w -= self.learning_rate * dw\n",
    "            \n",
    "            cost = np.sum((diff ** 2)) / (2 * m)\n",
    "            self.cost_history.append(cost)\n",
    "            \n",
    "    def predict(self, X):\n",
    "        m = X.shape[0]\n",
    "        X = np.concatenate((np.ones((m, 1)), X), axis=1) \n",
    "        return np.dot(X, self.w)\n",
    "\n",
    "\n",
    "X = (df['Buraxilish ili'] - df['Buraxilish ili'].mean()) / df['Buraxilish ili'].std()\n",
    "Y = (df['Qiymet'] - df['Qiymet'].mean()) / df['Qiymet'].std()\n",
    "\n",
    "model = LinearRegressionGD(num_iterations=10000)\n",
    "model.fit(X, Y)\n",
    "\n",
    "print(\"Coefficients after gradient descent:\")\n",
    "print(\"w =\", model.w)\n",
    "\n",
    "plt.plot(model.cost_history)\n",
    "plt.xlabel('Iterations')\n",
    "plt.ylabel('Cost')\n",
    "plt.title('Cost per Iteration')\n",
    "plt.show()"
   ]
  },
  {
   "cell_type": "code",
   "execution_count": 242,
   "id": "22865406",
   "metadata": {},
   "outputs": [
    {
     "data": {
      "text/plain": [
       "1.7926570535907037e-14"
      ]
     },
     "execution_count": 242,
     "metadata": {},
     "output_type": "execute_result"
    }
   ],
   "source": [
    "final_coef = model.w\n",
    "final_coef[0]"
   ]
  },
  {
   "cell_type": "code",
   "execution_count": 243,
   "id": "26a85436",
   "metadata": {},
   "outputs": [],
   "source": [
    "#Looking at one row with its prediction\n",
    "year = 2014\n",
    "Qiymet = 53550.0\n",
    "\n",
    "yearNorm = (year - df['Buraxilish ili'].mean()) / df['Buraxilish ili'].std()\n",
    "yearNorm\n",
    "\n",
    "prediction = final_coef[0] + final_coef[1]*yearNorm"
   ]
  },
  {
   "cell_type": "code",
   "execution_count": 244,
   "id": "bd87af25",
   "metadata": {},
   "outputs": [
    {
     "data": {
      "text/plain": [
       "2.3447151211661854"
      ]
     },
     "execution_count": 244,
     "metadata": {},
     "output_type": "execute_result"
    }
   ],
   "source": [
    "prediction"
   ]
  },
  {
   "cell_type": "code",
   "execution_count": 245,
   "id": "0da7a743",
   "metadata": {},
   "outputs": [
    {
     "data": {
      "text/plain": [
       "15116.454518072293"
      ]
     },
     "execution_count": 245,
     "metadata": {},
     "output_type": "execute_result"
    }
   ],
   "source": [
    "df['Qiymet'].mean()"
   ]
  },
  {
   "cell_type": "code",
   "execution_count": 246,
   "id": "82e3b04e",
   "metadata": {},
   "outputs": [
    {
     "data": {
      "text/plain": [
       "13650.418974088254"
      ]
     },
     "execution_count": 246,
     "metadata": {},
     "output_type": "execute_result"
    }
   ],
   "source": [
    "df['Qiymet'].std()"
   ]
  },
  {
   "cell_type": "code",
   "execution_count": 247,
   "id": "42c70a67",
   "metadata": {},
   "outputs": [
    {
     "data": {
      "text/plain": [
       "47122.798296870824"
      ]
     },
     "execution_count": 247,
     "metadata": {},
     "output_type": "execute_result"
    }
   ],
   "source": [
    "prediction*df['Qiymet'].std() + df['Qiymet'].mean()"
   ]
  },
  {
   "cell_type": "code",
   "execution_count": 248,
   "id": "6f8db0b7",
   "metadata": {},
   "outputs": [],
   "source": [
    "#Bringing back from normalization to actual values\n",
    "df['Prediction'] = (final_coef[0]*1 + final_coef[1] *((df['Buraxilish ili'] - df['Buraxilish ili'].mean())/df['Buraxilish ili'].std())) *df.Qiymet.std() + df.Qiymet.mean()"
   ]
  },
  {
   "cell_type": "code",
   "execution_count": 249,
   "id": "0e4fa8d0",
   "metadata": {},
   "outputs": [],
   "source": [
    "#Constructing residual column\n",
    "df['diff'] = (df['Prediction'] - df['Qiymet']).apply(abs)"
   ]
  }
 ],
 "metadata": {
  "kernelspec": {
   "display_name": "Python 3",
   "language": "python",
   "name": "python3"
  },
  "language_info": {
   "codemirror_mode": {
    "name": "ipython",
    "version": 3
   },
   "file_extension": ".py",
   "mimetype": "text/x-python",
   "name": "python",
   "nbconvert_exporter": "python",
   "pygments_lexer": "ipython3",
   "version": "3.8.8"
  }
 },
 "nbformat": 4,
 "nbformat_minor": 5
}
