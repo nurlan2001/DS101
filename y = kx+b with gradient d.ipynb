{
 "cells": [
  {
   "cell_type": "code",
   "execution_count": 113,
   "id": "2de9fbdc",
   "metadata": {},
   "outputs": [],
   "source": [
    "import numpy as np\n",
    "import matplotlib.pyplot as plt"
   ]
  },
  {
   "cell_type": "code",
   "execution_count": 114,
   "id": "09e4cc82",
   "metadata": {},
   "outputs": [],
   "source": [
    "X = np.random.randint(0, 9, size=100)"
   ]
  },
  {
   "cell_type": "code",
   "execution_count": 115,
   "id": "fa82ada1",
   "metadata": {},
   "outputs": [
    {
     "data": {
      "text/plain": [
       "array([7, 5, 1, 0, 6, 2, 7, 3, 0, 2, 4, 6, 4, 1, 4, 1, 8, 2, 3, 5, 7, 6,\n",
       "       8, 1, 8, 8, 6, 6, 1, 5, 4, 1, 4, 0, 5, 2, 2, 2, 4, 4, 5, 6, 2, 7,\n",
       "       4, 7, 3, 3, 4, 3, 3, 1, 2, 4, 4, 7, 8, 2, 7, 2, 2, 5, 3, 1, 1, 3,\n",
       "       8, 8, 6, 2, 5, 1, 8, 1, 1, 1, 8, 6, 0, 2, 2, 8, 6, 2, 0, 2, 6, 0,\n",
       "       3, 0, 1, 2, 0, 5, 4, 5, 6, 0, 2, 3])"
      ]
     },
     "execution_count": 115,
     "metadata": {},
     "output_type": "execute_result"
    }
   ],
   "source": [
    "X"
   ]
  },
  {
   "cell_type": "code",
   "execution_count": 116,
   "id": "d86c4b82",
   "metadata": {},
   "outputs": [],
   "source": [
    "Y = X*1.2 + 2.5"
   ]
  },
  {
   "cell_type": "code",
   "execution_count": 117,
   "id": "08737a47",
   "metadata": {},
   "outputs": [
    {
     "data": {
      "text/plain": [
       "array([10.9,  8.5,  3.7,  2.5,  9.7,  4.9, 10.9,  6.1,  2.5,  4.9,  7.3,\n",
       "        9.7,  7.3,  3.7,  7.3,  3.7, 12.1,  4.9,  6.1,  8.5, 10.9,  9.7,\n",
       "       12.1,  3.7, 12.1, 12.1,  9.7,  9.7,  3.7,  8.5,  7.3,  3.7,  7.3,\n",
       "        2.5,  8.5,  4.9,  4.9,  4.9,  7.3,  7.3,  8.5,  9.7,  4.9, 10.9,\n",
       "        7.3, 10.9,  6.1,  6.1,  7.3,  6.1,  6.1,  3.7,  4.9,  7.3,  7.3,\n",
       "       10.9, 12.1,  4.9, 10.9,  4.9,  4.9,  8.5,  6.1,  3.7,  3.7,  6.1,\n",
       "       12.1, 12.1,  9.7,  4.9,  8.5,  3.7, 12.1,  3.7,  3.7,  3.7, 12.1,\n",
       "        9.7,  2.5,  4.9,  4.9, 12.1,  9.7,  4.9,  2.5,  4.9,  9.7,  2.5,\n",
       "        6.1,  2.5,  3.7,  4.9,  2.5,  8.5,  7.3,  8.5,  9.7,  2.5,  4.9,\n",
       "        6.1])"
      ]
     },
     "execution_count": 117,
     "metadata": {},
     "output_type": "execute_result"
    }
   ],
   "source": [
    "Y"
   ]
  },
  {
   "cell_type": "code",
   "execution_count": 118,
   "id": "4872e67a",
   "metadata": {},
   "outputs": [
    {
     "name": "stdout",
     "output_type": "stream",
     "text": [
      "Coefficients after gradient descent:\n",
      "w = [2.5 1.2]\n"
     ]
    },
    {
     "data": {
      "image/png": "[encoded data removed]",
      "text/plain": [
       "<Figure size 432x288 with 1 Axes>"
      ]
     },
     "metadata": {
      "needs_background": "light"
     },
     "output_type": "display_data"
    }
   ],
   "source": [
    "import numpy as np\n",
    "import matplotlib.pyplot as plt\n",
    "\n",
    "class LinearRegressionGD:\n",
    "    def __init__(self, learning_rate=0.01, num_iterations=10000):\n",
    "        self.learning_rate = learning_rate\n",
    "        self.num_iterations = num_iterations\n",
    "        self.w = None\n",
    "        self.cost_history = []\n",
    "        \n",
    "    def fit(self, X, Y):\n",
    "        m = len(Y)\n",
    "        X = np.array([np.ones(len(Y)), X])\n",
    "        \n",
    "        self.w = np.zeros(2)\n",
    "        \n",
    "        for _ in range(self.num_iterations):\n",
    "            y_pred = X.T.dot(self.w)\n",
    "            diff = y_pred - Y\n",
    "            \n",
    "            dw = np.dot(X, diff) / m\n",
    "            self.w -= self.learning_rate * dw\n",
    "            \n",
    "            cost = np.sum((diff ** 2)) / (2 * m)\n",
    "            self.cost_history.append(cost)\n",
    "            \n",
    "    def predict(self, X):\n",
    "        m = X.shape[0]\n",
    "        X = np.concatenate((np.ones((m, 1)), X), axis=1) \n",
    "        return np.dot(X, self.w)\n",
    "\n",
    "#X = (X-X.mean())/X.std()\n",
    "#Y = (Y-Y.mean())/Y.std()\n",
    "    \n",
    "model = LinearRegressionGD(num_iterations=10000)\n",
    "model.fit(X, Y)\n",
    "\n",
    "print(\"Coefficients after gradient descent:\")\n",
    "print(\"w =\", model.w)\n",
    "\n",
    "plt.plot(model.cost_history)\n",
    "plt.xlabel('Iterations')\n",
    "plt.ylabel('Cost')\n",
    "plt.title('Cost per Iteration')\n",
    "plt.show()"
   ]
  },
  {
   "cell_type": "code",
   "execution_count": 119,
   "id": "2d11e1ab",
   "metadata": {},
   "outputs": [
    {
     "data": {
      "text/plain": [
       "2.4999999999998357"
      ]
     },
     "execution_count": 119,
     "metadata": {},
     "output_type": "execute_result"
    }
   ],
   "source": [
    "final_coef = model.w\n",
    "final_coef[0]"
   ]
  },
  {
   "cell_type": "code",
   "execution_count": 120,
   "id": "d52530b2",
   "metadata": {},
   "outputs": [
    {
     "data": {
      "text/plain": [
       "array([[ 7. ,  5. ,  1. ,  0. ,  6. ,  2. ,  7. ,  3. ,  0. ,  2. ,  4. ,\n",
       "         6. ,  4. ,  1. ,  4. ,  1. ,  8. ,  2. ,  3. ,  5. ,  7. ,  6. ,\n",
       "         8. ,  1. ,  8. ,  8. ,  6. ,  6. ,  1. ,  5. ,  4. ,  1. ,  4. ,\n",
       "         0. ,  5. ,  2. ,  2. ,  2. ,  4. ,  4. ,  5. ,  6. ,  2. ,  7. ,\n",
       "         4. ,  7. ,  3. ,  3. ,  4. ,  3. ,  3. ,  1. ,  2. ,  4. ,  4. ,\n",
       "         7. ,  8. ,  2. ,  7. ,  2. ,  2. ,  5. ,  3. ,  1. ,  1. ,  3. ,\n",
       "         8. ,  8. ,  6. ,  2. ,  5. ,  1. ,  8. ,  1. ,  1. ,  1. ,  8. ,\n",
       "         6. ,  0. ,  2. ,  2. ,  8. ,  6. ,  2. ,  0. ,  2. ,  6. ,  0. ,\n",
       "         3. ,  0. ,  1. ,  2. ,  0. ,  5. ,  4. ,  5. ,  6. ,  0. ,  2. ,\n",
       "         3. ],\n",
       "       [10.9,  8.5,  3.7,  2.5,  9.7,  4.9, 10.9,  6.1,  2.5,  4.9,  7.3,\n",
       "         9.7,  7.3,  3.7,  7.3,  3.7, 12.1,  4.9,  6.1,  8.5, 10.9,  9.7,\n",
       "        12.1,  3.7, 12.1, 12.1,  9.7,  9.7,  3.7,  8.5,  7.3,  3.7,  7.3,\n",
       "         2.5,  8.5,  4.9,  4.9,  4.9,  7.3,  7.3,  8.5,  9.7,  4.9, 10.9,\n",
       "         7.3, 10.9,  6.1,  6.1,  7.3,  6.1,  6.1,  3.7,  4.9,  7.3,  7.3,\n",
       "        10.9, 12.1,  4.9, 10.9,  4.9,  4.9,  8.5,  6.1,  3.7,  3.7,  6.1,\n",
       "        12.1, 12.1,  9.7,  4.9,  8.5,  3.7, 12.1,  3.7,  3.7,  3.7, 12.1,\n",
       "         9.7,  2.5,  4.9,  4.9, 12.1,  9.7,  4.9,  2.5,  4.9,  9.7,  2.5,\n",
       "         6.1,  2.5,  3.7,  4.9,  2.5,  8.5,  7.3,  8.5,  9.7,  2.5,  4.9,\n",
       "         6.1]])"
      ]
     },
     "execution_count": 120,
     "metadata": {},
     "output_type": "execute_result"
    }
   ],
   "source": [
    "np.array([X, Y])"
   ]
  },
  {
   "cell_type": "code",
   "execution_count": 121,
   "id": "98040908",
   "metadata": {},
   "outputs": [],
   "source": [
    "X = 7\n",
    "Y = 10.9\n",
    "\n",
    "pred_y = final_coef[0] + final_coef[1]*X"
   ]
  },
  {
   "cell_type": "code",
   "execution_count": 122,
   "id": "b70d2952",
   "metadata": {},
   "outputs": [
    {
     "data": {
      "text/plain": [
       "10.900000000000055"
      ]
     },
     "execution_count": 122,
     "metadata": {},
     "output_type": "execute_result"
    }
   ],
   "source": [
    "pred_y"
   ]
  }
 ],
 "metadata": {
  "kernelspec": {
   "display_name": "Python 3",
   "language": "python",
   "name": "python3"
  },
  "language_info": {
   "codemirror_mode": {
    "name": "ipython",
    "version": 3
   },
   "file_extension": ".py",
   "mimetype": "text/x-python",
   "name": "python",
   "nbconvert_exporter": "python",
   "pygments_lexer": "ipython3",
   "version": "3.8.8"
  }
 },
 "nbformat": 4,
 "nbformat_minor": 5
}
