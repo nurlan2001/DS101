{
 "cells": [
  {
   "cell_type": "code",
   "execution_count": 118,
   "id": "720e314b",
   "metadata": {},
   "outputs": [],
   "source": [
    "import pandas as pd\n",
    "import numpy as np\n",
    "import matplotlib.pyplot as plt \n",
    "from sklearn.model_selection import train_test_split\n",
    "from sklearn.metrics import confusion_matrix, ConfusionMatrixDisplay, classification_report, accuracy_score, precision_score, f1_score, recall_score"
   ]
  },
  {
   "cell_type": "code",
   "execution_count": 119,
   "id": "ae88e275",
   "metadata": {},
   "outputs": [],
   "source": [
    "#Data importing and one-hot encoding\n",
    "df = pd.read_csv('titanic.csv')\n",
    "#df1 = df.drop(columns=['PassengerId', 'Name', 'Ticket', 'Cabin'])\n",
    "#df1 = pd.get_dummies(df1, columns=['Sex', 'Pclass', 'SibSp', 'Parch', 'Embarked'], drop_first=True)"
   ]
  },
  {
   "cell_type": "code",
   "execution_count": 120,
   "id": "d3b060ff",
   "metadata": {},
   "outputs": [],
   "source": [
    "#Replacing NA with NA\n",
    "df['Age'] = df['Age'].fillna(df['Age'].median())"
   ]
  },
  {
   "cell_type": "code",
   "execution_count": 121,
   "id": "6f3e8f37",
   "metadata": {},
   "outputs": [],
   "source": [
    "df.drop(columns=['PassengerId', 'Name', 'Ticket', 'Cabin'], inplace = True)"
   ]
  },
  {
   "cell_type": "code",
   "execution_count": 122,
   "id": "326b34ea",
   "metadata": {},
   "outputs": [],
   "source": [
    "df.dropna(inplace=True)"
   ]
  },
  {
   "cell_type": "code",
   "execution_count": 124,
   "id": "d4fa6054",
   "metadata": {},
   "outputs": [],
   "source": [
    "pclass_mapping = {1: '1st class', 2: '2nd class', 3: '3rd class'}\n",
    "df['Pclass'] = df['Pclass'].replace(pclass_mapping)\n",
    "df['Pclass'] = df['Pclass'].astype('object')"
   ]
  },
  {
   "cell_type": "code",
   "execution_count": 125,
   "id": "fd968c70",
   "metadata": {},
   "outputs": [
    {
     "data": {
      "text/plain": [
       "3rd class    491\n",
       "1st class    214\n",
       "2nd class    184\n",
       "Name: Pclass, dtype: int64"
      ]
     },
     "execution_count": 125,
     "metadata": {},
     "output_type": "execute_result"
    }
   ],
   "source": [
    "df['Pclass'].value_counts()"
   ]
  },
  {
   "cell_type": "code",
   "execution_count": 126,
   "id": "9c235a1a",
   "metadata": {},
   "outputs": [
    {
     "data": {
      "text/html": [
       "<div>\n",
       "<style scoped>\n",
       "    .dataframe tbody tr th:only-of-type {\n",
       "        vertical-align: middle;\n",
       "    }\n",
       "\n",
       "    .dataframe tbody tr th {\n",
       "        vertical-align: top;\n",
       "    }\n",
       "\n",
       "    .dataframe thead th {\n",
       "        text-align: right;\n",
       "    }\n",
       "</style>\n",
       "<table border=\"1\" class=\"dataframe\">\n",
       "  <thead>\n",
       "    <tr style=\"text-align: right;\">\n",
       "      <th></th>\n",
       "      <th>Survived</th>\n",
       "      <th>Pclass</th>\n",
       "      <th>Sex</th>\n",
       "      <th>Age</th>\n",
       "      <th>SibSp</th>\n",
       "      <th>Parch</th>\n",
       "      <th>Fare</th>\n",
       "      <th>Embarked</th>\n",
       "    </tr>\n",
       "  </thead>\n",
       "  <tbody>\n",
       "    <tr>\n",
       "      <th>0</th>\n",
       "      <td>0</td>\n",
       "      <td>3rd class</td>\n",
       "      <td>male</td>\n",
       "      <td>22.0</td>\n",
       "      <td>1</td>\n",
       "      <td>0</td>\n",
       "      <td>7.2500</td>\n",
       "      <td>S</td>\n",
       "    </tr>\n",
       "    <tr>\n",
       "      <th>1</th>\n",
       "      <td>1</td>\n",
       "      <td>1st class</td>\n",
       "      <td>female</td>\n",
       "      <td>38.0</td>\n",
       "      <td>1</td>\n",
       "      <td>0</td>\n",
       "      <td>71.2833</td>\n",
       "      <td>C</td>\n",
       "    </tr>\n",
       "    <tr>\n",
       "      <th>2</th>\n",
       "      <td>1</td>\n",
       "      <td>3rd class</td>\n",
       "      <td>female</td>\n",
       "      <td>26.0</td>\n",
       "      <td>0</td>\n",
       "      <td>0</td>\n",
       "      <td>7.9250</td>\n",
       "      <td>S</td>\n",
       "    </tr>\n",
       "    <tr>\n",
       "      <th>3</th>\n",
       "      <td>1</td>\n",
       "      <td>1st class</td>\n",
       "      <td>female</td>\n",
       "      <td>35.0</td>\n",
       "      <td>1</td>\n",
       "      <td>0</td>\n",
       "      <td>53.1000</td>\n",
       "      <td>S</td>\n",
       "    </tr>\n",
       "    <tr>\n",
       "      <th>4</th>\n",
       "      <td>0</td>\n",
       "      <td>3rd class</td>\n",
       "      <td>male</td>\n",
       "      <td>35.0</td>\n",
       "      <td>0</td>\n",
       "      <td>0</td>\n",
       "      <td>8.0500</td>\n",
       "      <td>S</td>\n",
       "    </tr>\n",
       "    <tr>\n",
       "      <th>...</th>\n",
       "      <td>...</td>\n",
       "      <td>...</td>\n",
       "      <td>...</td>\n",
       "      <td>...</td>\n",
       "      <td>...</td>\n",
       "      <td>...</td>\n",
       "      <td>...</td>\n",
       "      <td>...</td>\n",
       "    </tr>\n",
       "    <tr>\n",
       "      <th>886</th>\n",
       "      <td>0</td>\n",
       "      <td>2nd class</td>\n",
       "      <td>male</td>\n",
       "      <td>27.0</td>\n",
       "      <td>0</td>\n",
       "      <td>0</td>\n",
       "      <td>13.0000</td>\n",
       "      <td>S</td>\n",
       "    </tr>\n",
       "    <tr>\n",
       "      <th>887</th>\n",
       "      <td>1</td>\n",
       "      <td>1st class</td>\n",
       "      <td>female</td>\n",
       "      <td>19.0</td>\n",
       "      <td>0</td>\n",
       "      <td>0</td>\n",
       "      <td>30.0000</td>\n",
       "      <td>S</td>\n",
       "    </tr>\n",
       "    <tr>\n",
       "      <th>888</th>\n",
       "      <td>0</td>\n",
       "      <td>3rd class</td>\n",
       "      <td>female</td>\n",
       "      <td>28.0</td>\n",
       "      <td>1</td>\n",
       "      <td>2</td>\n",
       "      <td>23.4500</td>\n",
       "      <td>S</td>\n",
       "    </tr>\n",
       "    <tr>\n",
       "      <th>889</th>\n",
       "      <td>1</td>\n",
       "      <td>1st class</td>\n",
       "      <td>male</td>\n",
       "      <td>26.0</td>\n",
       "      <td>0</td>\n",
       "      <td>0</td>\n",
       "      <td>30.0000</td>\n",
       "      <td>C</td>\n",
       "    </tr>\n",
       "    <tr>\n",
       "      <th>890</th>\n",
       "      <td>0</td>\n",
       "      <td>3rd class</td>\n",
       "      <td>male</td>\n",
       "      <td>32.0</td>\n",
       "      <td>0</td>\n",
       "      <td>0</td>\n",
       "      <td>7.7500</td>\n",
       "      <td>Q</td>\n",
       "    </tr>\n",
       "  </tbody>\n",
       "</table>\n",
       "<p>889 rows × 8 columns</p>\n",
       "</div>"
      ],
      "text/plain": [
       "     Survived     Pclass     Sex   Age  SibSp  Parch     Fare Embarked\n",
       "0           0  3rd class    male  22.0      1      0   7.2500        S\n",
       "1           1  1st class  female  38.0      1      0  71.2833        C\n",
       "2           1  3rd class  female  26.0      0      0   7.9250        S\n",
       "3           1  1st class  female  35.0      1      0  53.1000        S\n",
       "4           0  3rd class    male  35.0      0      0   8.0500        S\n",
       "..        ...        ...     ...   ...    ...    ...      ...      ...\n",
       "886         0  2nd class    male  27.0      0      0  13.0000        S\n",
       "887         1  1st class  female  19.0      0      0  30.0000        S\n",
       "888         0  3rd class  female  28.0      1      2  23.4500        S\n",
       "889         1  1st class    male  26.0      0      0  30.0000        C\n",
       "890         0  3rd class    male  32.0      0      0   7.7500        Q\n",
       "\n",
       "[889 rows x 8 columns]"
      ]
     },
     "execution_count": 126,
     "metadata": {},
     "output_type": "execute_result"
    }
   ],
   "source": [
    "df"
   ]
  },
  {
   "cell_type": "code",
   "execution_count": 127,
   "id": "a9a074f8",
   "metadata": {},
   "outputs": [],
   "source": [
    "df = pd.get_dummies(df, columns=['Pclass', 'Sex', 'Embarked'], drop_first = True)"
   ]
  },
  {
   "cell_type": "code",
   "execution_count": 128,
   "id": "808ed2f6",
   "metadata": {},
   "outputs": [
    {
     "data": {
      "text/plain": [
       "Survived              int64\n",
       "Age                 float64\n",
       "SibSp                 int64\n",
       "Parch                 int64\n",
       "Fare                float64\n",
       "Pclass_2nd class      uint8\n",
       "Pclass_3rd class      uint8\n",
       "Sex_male              uint8\n",
       "Embarked_Q            uint8\n",
       "Embarked_S            uint8\n",
       "dtype: object"
      ]
     },
     "execution_count": 128,
     "metadata": {},
     "output_type": "execute_result"
    }
   ],
   "source": [
    "df.dtypes"
   ]
  },
  {
   "cell_type": "code",
   "execution_count": 129,
   "id": "1992df3c",
   "metadata": {},
   "outputs": [],
   "source": [
    "df1 = df.copy()"
   ]
  },
  {
   "cell_type": "code",
   "execution_count": 130,
   "id": "75309e20",
   "metadata": {},
   "outputs": [],
   "source": [
    "df1 = df.sample(len(df1))"
   ]
  },
  {
   "cell_type": "code",
   "execution_count": 131,
   "id": "15e5a0e9",
   "metadata": {},
   "outputs": [],
   "source": [
    "df1[['Age', 'SibSp', 'Parch', 'Fare']] = (df1[['Age', 'SibSp', 'Parch', 'Fare']] - df1[['Age', 'SibSp', 'Parch', 'Fare']].mean()) / df1[['Age', 'SibSp', 'Parch', 'Fare']].std()\n"
   ]
  },
  {
   "cell_type": "code",
   "execution_count": 132,
   "id": "de82d6a4",
   "metadata": {},
   "outputs": [],
   "source": [
    "X = df1[['Age', 'SibSp', 'Parch', 'Fare', 'Pclass_2nd class', 'Pclass_3rd class', 'Sex_male', 'Embarked_Q', 'Embarked_S']]\n",
    "Y = pd.DataFrame(df1['Survived'])"
   ]
  },
  {
   "cell_type": "code",
   "execution_count": 133,
   "id": "8652cfcd",
   "metadata": {},
   "outputs": [],
   "source": [
    "X_train, X_test, y_train, y_test = train_test_split(X, Y, test_size=0.2, random_state = 42)"
   ]
  },
  {
   "cell_type": "code",
   "execution_count": 134,
   "id": "6dae759e",
   "metadata": {},
   "outputs": [],
   "source": [
    "m = X_train.shape[0] #length of data"
   ]
  },
  {
   "cell_type": "code",
   "execution_count": 135,
   "id": "01f26ceb",
   "metadata": {},
   "outputs": [
    {
     "name": "stdout",
     "output_type": "stream",
     "text": [
      "Coefficients after gradient descent:\n",
      "Weights:\n",
      " [[ 2.84078003]\n",
      " [-0.45765614]\n",
      " [-0.38057741]\n",
      " [-0.03169892]\n",
      " [ 0.17413922]\n",
      " [-0.93807276]\n",
      " [-2.02537505]\n",
      " [-2.74689538]\n",
      " [-0.23556958]\n",
      " [-0.44112872]]\n"
     ]
    },
    {
     "data": {
      "image/png": "[encoded data removed]",
      "text/plain": [
       "<Figure size 432x288 with 1 Axes>"
      ]
     },
     "metadata": {
      "needs_background": "light"
     },
     "output_type": "display_data"
    }
   ],
   "source": [
    "class LogisticRegressionGD:\n",
    "    def __init__(self, learning_rate=0.01, num_iterations=100000):\n",
    "        self.learning_rate = learning_rate\n",
    "        self.num_iterations = num_iterations\n",
    "        self.w = None\n",
    "        self.cost_history = []\n",
    "    \n",
    "    def sigmoid(self, z):\n",
    "        return 1 / (1 + np.exp(-z))\n",
    "    \n",
    "    def fit(self, X, Y):\n",
    "        m, n = X.shape # m: samples, n: features\n",
    "        X = np.concatenate((np.ones((m, 1)), X), axis=1)\n",
    "        \n",
    "        self.w = np.zeros((X.shape[1], 1))\n",
    "        \n",
    "        for _ in range(self.num_iterations):\n",
    "            z = np.dot(X, self.w)\n",
    "            h = self.sigmoid(z)\n",
    "            diff = h - Y\n",
    "            \n",
    "            gradient = np.dot(X.T, diff) / len(Y)\n",
    "            self.w = self.w - self.learning_rate * gradient\n",
    "            \n",
    "            cost = (-Y * np.log(h) - (1 - Y) * np.log(1 - h)).mean()\n",
    "            self.cost_history.append(cost)\n",
    "    \n",
    "    def predict_proba(self, X):\n",
    "        m = X.shape[0]\n",
    "        X = np.concatenate((np.ones((m, 1)), X), axis=1)\n",
    "        return self.sigmoid(np.dot(X, self.w))\n",
    "    \n",
    "    def predict(self, X):\n",
    "        proba = self.predict_proba(X)\n",
    "        return (proba >= 0.5).astype(int)\n",
    "\n",
    "X = X_train\n",
    "Y = y_train\n",
    "\n",
    "model = LogisticRegressionGD(num_iterations=50000)\n",
    "model.fit(X, Y)\n",
    "\n",
    "print(\"Coefficients after gradient descent:\")\n",
    "print(\"Weights:\\n\", model.w)\n",
    "\n",
    "plt.plot(model.cost_history)\n",
    "plt.xlabel('Iterations')\n",
    "plt.ylabel('Cost')\n",
    "plt.title('Cost per Iteration')\n",
    "plt.show()"
   ]
  },
  {
   "cell_type": "code",
   "execution_count": 136,
   "id": "47248561",
   "metadata": {},
   "outputs": [
    {
     "data": {
      "text/plain": [
       "array([[ 2.84078003, -0.45765614, -0.38057741, -0.03169892,  0.17413922],\n",
       "       [-0.93807276, -2.02537505, -2.74689538, -0.23556958, -0.44112872]])"
      ]
     },
     "execution_count": 136,
     "metadata": {},
     "output_type": "execute_result"
    }
   ],
   "source": [
    "model.w.reshape(-1, 5)"
   ]
  },
  {
   "cell_type": "code",
   "execution_count": 137,
   "id": "846813e4",
   "metadata": {},
   "outputs": [
    {
     "data": {
      "image/png": "[encoded data removed]",
      "text/plain": [
       "<Figure size 432x288 with 2 Axes>"
      ]
     },
     "metadata": {
      "needs_background": "light"
     },
     "output_type": "display_data"
    },
    {
     "name": "stdout",
     "output_type": "stream",
     "text": [
      "Classification Report - Test Data\n",
      "              precision    recall  f1-score   support\n",
      "\n",
      "           0       0.85      0.86      0.85       125\n",
      "           1       0.65      0.64      0.65        53\n",
      "\n",
      "    accuracy                           0.79       178\n",
      "   macro avg       0.75      0.75      0.75       178\n",
      "weighted avg       0.79      0.79      0.79       178\n",
      "\n"
     ]
    },
    {
     "data": {
      "image/png": "[encoded data removed]",
      "text/plain": [
       "<Figure size 432x288 with 2 Axes>"
      ]
     },
     "metadata": {
      "needs_background": "light"
     },
     "output_type": "display_data"
    },
    {
     "name": "stdout",
     "output_type": "stream",
     "text": [
      "Classification Report - Training Data\n",
      "              precision    recall  f1-score   support\n",
      "\n",
      "           0       0.82      0.86      0.84       424\n",
      "           1       0.77      0.71      0.74       287\n",
      "\n",
      "    accuracy                           0.80       711\n",
      "   macro avg       0.79      0.79      0.79       711\n",
      "weighted avg       0.80      0.80      0.80       711\n",
      "\n"
     ]
    }
   ],
   "source": [
    "# Predicting on test data\n",
    "y_test_pred_proba = model.predict_proba(X_test)\n",
    "y_test_pred = model.predict(X_test)\n",
    "\n",
    "# Predicting on training data\n",
    "y_train_pred_proba = model.predict_proba(X_train)\n",
    "y_train_pred = model.predict(X_train)\n",
    "\n",
    "# Displaying the confusion matrix for test data\n",
    "cm_test = confusion_matrix(y_test, y_test_pred)\n",
    "disp_test = ConfusionMatrixDisplay(confusion_matrix=cm_test)\n",
    "disp_test.plot(cmap=plt.cm.Blues)\n",
    "plt.title(\"Confusion Matrix - Test Data\")\n",
    "plt.show()\n",
    "print(\"Classification Report - Test Data\")\n",
    "print(classification_report(y_test, y_test_pred))\n",
    "\n",
    "# Displaying the confusion matrix for training data\n",
    "cm_train = confusion_matrix(y_train, y_train_pred)\n",
    "disp_train = ConfusionMatrixDisplay(confusion_matrix=cm_train)\n",
    "disp_train.plot(cmap=plt.cm.Blues)\n",
    "plt.title(\"Confusion Matrix - Training Data\")\n",
    "plt.show()\n",
    "print(\"Classification Report - Training Data\")\n",
    "print(classification_report(y_train, y_train_pred))\n"
   ]
  },
  {
   "cell_type": "code",
   "execution_count": null,
   "id": "e3020e25",
   "metadata": {},
   "outputs": [],
   "source": []
  }
 ],
 "metadata": {
  "kernelspec": {
   "display_name": "Python 3",
   "language": "python",
   "name": "python3"
  },
  "language_info": {
   "codemirror_mode": {
    "name": "ipython",
    "version": 3
   },
   "file_extension": ".py",
   "mimetype": "text/x-python",
   "name": "python",
   "nbconvert_exporter": "python",
   "pygments_lexer": "ipython3",
   "version": "3.8.8"
  }
 },
 "nbformat": 4,
 "nbformat_minor": 5
}
